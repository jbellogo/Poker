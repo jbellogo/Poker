{
 "cells": [
  {
   "cell_type": "code",
   "execution_count": 1,
   "id": "9af288b0-3d81-4f10-8a85-434887731143",
   "metadata": {},
   "outputs": [],
   "source": [
    "from models import Suit, Rank, Card"
   ]
  },
  {
   "cell_type": "code",
   "execution_count": 2,
   "id": "3368feed-be6b-4382-b774-aa94bb15e58a",
   "metadata": {},
   "outputs": [],
   "source": [
    "KH = Card(suit=\"H\", rank=13)"
   ]
  },
  {
   "cell_type": "code",
   "execution_count": 3,
   "id": "fd475437-4ad7-425d-a283-3faf979ad4b0",
   "metadata": {},
   "outputs": [
    {
     "data": {
      "text/plain": [
       "[2, 3, 4, 5, 6, 7, 8, 9, 10, 11, 12, 13, 14]"
      ]
     },
     "execution_count": 3,
     "metadata": {},
     "output_type": "execute_result"
    }
   ],
   "source": [
    "Suit.list() == ['S', 'H', 'C', 'D']\n",
    "Rank.list() == [2, 3, 4, 5, 6, 7, 8, 9, 10, 11, 12, 13, 14]\n",
    "\n"
   ]
  },
  {
   "cell_type": "code",
   "execution_count": null,
   "id": "12bbce59-a72a-41c0-b6a9-1c685a7fd3ae",
   "metadata": {},
   "outputs": [],
   "source": []
  }
 ],
 "metadata": {
  "kernelspec": {
   "display_name": "Python 3 (ipykernel)",
   "language": "python",
   "name": "python3"
  },
  "language_info": {
   "codemirror_mode": {
    "name": "ipython",
    "version": 3
   },
   "file_extension": ".py",
   "mimetype": "text/x-python",
   "name": "python",
   "nbconvert_exporter": "python",
   "pygments_lexer": "ipython3",
   "version": "3.11.5"
  }
 },
 "nbformat": 4,
 "nbformat_minor": 5
}
