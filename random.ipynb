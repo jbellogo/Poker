{
 "cells": [
  {
   "cell_type": "code",
   "execution_count": 55,
   "id": "212ee5c5-6e99-44f5-8381-439678d1877b",
   "metadata": {},
   "outputs": [],
   "source": [
    "## betting loop \n",
    "from pydantic import BaseModel\n",
    "\n",
    "# NEED TO KEEP TRACK OF THOSE WHO FOLD\n",
    "\n",
    "class Player(BaseModel):\n",
    "    pid : int\n",
    "    funds : int = 100\n",
    "    active_in_current_hand : bool = True\n",
    "    def make_bet(self, pot_state) -> (str, int):\n",
    "        print(f\"Player{self.pid}, given {pot_state}, your choices are:\")\n",
    "        print(\"  1)fold\")\n",
    "        print(f\"  2)call for {pot_state['call_amount']}\")\n",
    "        print(f\"  3)raise for at least {pot_state['call_amount']*2}\")\n",
    "        amount = input()\n",
    "        ## if raise \n",
    "        pot_state['call_amount'] = int(amount)\n",
    "    \n",
    "PLAYERS  = [Player(pid = i) for i in range(0,3)]\n",
    "\n",
    "class Pot(BaseModel):\n",
    "    pot_state :int = {\"size\" : 0, \"call_amount\": 10}\n",
    "\n",
    "    def betting_round(self):\n",
    "        for player in PLAYERS:\n",
    "            if player.active_in_current_hand:\n",
    "                player.make_bet(pot_state)\n",
    "                # if raise restart the loop... maybe a heap? stack?\n",
    "\n",
    "\n",
    "\n",
    "\n",
    "\n",
    "    \n",
    "\n"
   ]
  },
  {
   "cell_type": "code",
   "execution_count": 56,
   "id": "fe88c3c2-034b-4744-a8de-82bd50501036",
   "metadata": {},
   "outputs": [
    {
     "name": "stdout",
     "output_type": "stream",
     "text": [
      "Player0, given {'size': 0, 'call_amount': '3'}, your choices are:\n",
      "  1)fold\n",
      "  2)call for 3\n",
      "  3)raise for at least 33\n"
     ]
    },
    {
     "name": "stdin",
     "output_type": "stream",
     "text": [
      " 2\n"
     ]
    },
    {
     "name": "stdout",
     "output_type": "stream",
     "text": [
      "Player1, given {'size': 0, 'call_amount': 2}, your choices are:\n",
      "  1)fold\n",
      "  2)call for 2\n",
      "  3)raise for at least 4\n"
     ]
    },
    {
     "name": "stdin",
     "output_type": "stream",
     "text": [
      " 2\n"
     ]
    },
    {
     "name": "stdout",
     "output_type": "stream",
     "text": [
      "Player2, given {'size': 0, 'call_amount': 2}, your choices are:\n",
      "  1)fold\n",
      "  2)call for 2\n",
      "  3)raise for at least 4\n"
     ]
    },
    {
     "name": "stdin",
     "output_type": "stream",
     "text": [
      " 2\n"
     ]
    }
   ],
   "source": [
    "Pot().betting_round()\n",
    "    "
   ]
  },
  {
   "cell_type": "code",
   "execution_count": null,
   "id": "2b670bac-1e05-497c-b1be-8178e9998e62",
   "metadata": {},
   "outputs": [],
   "source": []
  }
 ],
 "metadata": {
  "kernelspec": {
   "display_name": "Python 3 (ipykernel)",
   "language": "python",
   "name": "python3"
  },
  "language_info": {
   "codemirror_mode": {
    "name": "ipython",
    "version": 3
   },
   "file_extension": ".py",
   "mimetype": "text/x-python",
   "name": "python",
   "nbconvert_exporter": "python",
   "pygments_lexer": "ipython3",
   "version": "3.11.5"
  }
 },
 "nbformat": 4,
 "nbformat_minor": 5
}
