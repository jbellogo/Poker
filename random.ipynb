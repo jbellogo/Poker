{
 "cells": [
  {
   "cell_type": "code",
   "execution_count": 3,
   "id": "212ee5c5-6e99-44f5-8381-439678d1877b",
   "metadata": {},
   "outputs": [],
   "source": [
    "## betting loop \n",
    "from pydantic import BaseModel\n",
    "from typing import Literal\n",
    "\n",
    "# NEED TO KEEP TRACK OF THOSE WHO FOLD\n",
    "\n",
    "\n",
    "class Player(BaseModel):\n",
    "    pid : int\n",
    "    funds : int = 100\n",
    "    current_hand_betting_status : Literal[\"active\", \"fold\", \"all-in\", \"inactive\"] = \"inactive\"\n",
    "    def make_bet(self, pot_state) -> (str, int):\n",
    "        print(f\"Player{self.pid}, given {pot_state}, your choices are:\")\n",
    "        print(\"  1)fold\")\n",
    "        print(f\"  2)call for {pot_state['call_amount']}\")\n",
    "        print(f\"  3)raise for at least {pot_state['call_amount']*2}\")\n",
    "        while True:\n",
    "            action : Literal[\"call\", \"fold\", \"raise\"] = input(\"Enter action fold, call, or raise:\")\n",
    "            if action in [\"call\", \"fold\", \"raise\"]:\n",
    "                break\n",
    "        amount = 0\n",
    "        if action == \"raise\":\n",
    "            amount = input(\"Enter amount\")\n",
    "            pot_state['call_amount'] = int(amount)\n",
    "        return (action, amount)\n",
    "\n",
    "    def set_status(self, new_status : Literal[\"active\", \"fold\", \"all-in\", \"inactive\"]):\n",
    "        self.current_hand_betting_status = new_status\n",
    "\n",
    "    def hand_status(self):\n",
    "        return self.current_hand_betting_status\n",
    "\n",
    "\n",
    "\n",
    "\n",
    "PLAYERS  = [Player(pid = i, current_hand_betting_status = \"active\") for i in range(0,3)]\n",
    "\n",
    "\n",
    "class Pot(BaseModel):\n",
    "    pot_state :int = {\"size\" : 0, \"call_amount\": 10}\n",
    "\n",
    "    def betting_round(self):\n",
    "        '''pass the small blind index and amount here'''\n",
    "        ## Assume players has only active players ... how do we keep track if they fold, or go al in? a special, iterable data struture\n",
    "        players_to_call = len(PLAYERS)\n",
    "        active_players = len(PLAYERS)\n",
    "        while players_to_call != 0:\n",
    "            for player in PLAYERS:\n",
    "                if players_to_call == 0:\n",
    "                    break\n",
    "                if player.hand_status() == \"active\":\n",
    "                    print(f\"\\nplayers_to_call = {players_to_call}\")\n",
    "                    print(f\"active_players = {active_players}\")\n",
    "    \n",
    "                    player_action, amount = player.make_bet(self.pot_state)\n",
    "                    if player_action == \"raise\":\n",
    "                        players_to_call = active_players-1 # all active players\n",
    "                    if player_action == \"fold\":\n",
    "                        players_to_call-=1\n",
    "                        active_players-=1\n",
    "                        player.set_status(\"fold\")\n",
    "                    if player_action == \"call\":\n",
    "                        players_to_call -=1\n",
    "            \n",
    "        print(\"betting round over!\")\n",
    "                \n",
    "            \n",
    "\n",
    "\n",
    "\n",
    "\n",
    "\n",
    "    \n",
    "\n"
   ]
  },
  {
   "cell_type": "code",
   "execution_count": null,
   "id": "fe88c3c2-034b-4744-a8de-82bd50501036",
   "metadata": {},
   "outputs": [
    {
     "name": "stdout",
     "output_type": "stream",
     "text": [
      "\n",
      "players_to_call = 3\n",
      "active_players = 3\n",
      "Player0, given {'size': 0, 'call_amount': 10}, your choices are:\n",
      "  1)fold\n",
      "  2)call for 10\n",
      "  3)raise for at least 20\n"
     ]
    },
    {
     "name": "stdin",
     "output_type": "stream",
     "text": [
      "Enter action fold, call, or raise: fold\n"
     ]
    },
    {
     "name": "stdout",
     "output_type": "stream",
     "text": [
      "\n",
      "players_to_call = 2\n",
      "active_players = 2\n",
      "Player1, given {'size': 0, 'call_amount': 10}, your choices are:\n",
      "  1)fold\n",
      "  2)call for 10\n",
      "  3)raise for at least 20\n"
     ]
    },
    {
     "name": "stdin",
     "output_type": "stream",
     "text": [
      "Enter action fold, call, or raise: call\n"
     ]
    },
    {
     "name": "stdout",
     "output_type": "stream",
     "text": [
      "\n",
      "players_to_call = 1\n",
      "active_players = 2\n",
      "Player2, given {'size': 0, 'call_amount': 10}, your choices are:\n",
      "  1)fold\n",
      "  2)call for 10\n",
      "  3)raise for at least 20\n"
     ]
    },
    {
     "name": "stdin",
     "output_type": "stream",
     "text": [
      "Enter action fold, call, or raise: raise\n",
      "Enter amount 50\n"
     ]
    },
    {
     "name": "stdout",
     "output_type": "stream",
     "text": [
      "\n",
      "players_to_call = 1\n",
      "active_players = 2\n",
      "Player1, given {'size': 0, 'call_amount': 50}, your choices are:\n",
      "  1)fold\n",
      "  2)call for 50\n",
      "  3)raise for at least 100\n"
     ]
    },
    {
     "name": "stdin",
     "output_type": "stream",
     "text": [
      "Enter action fold, call, or raise: raise 200\n",
      "Enter action fold, call, or raise: call\n"
     ]
    },
    {
     "name": "stdout",
     "output_type": "stream",
     "text": [
      "\n",
      "players_to_call = 0\n",
      "active_players = 2\n",
      "Player2, given {'size': 0, 'call_amount': 50}, your choices are:\n",
      "  1)fold\n",
      "  2)call for 50\n",
      "  3)raise for at least 100\n"
     ]
    }
   ],
   "source": [
    "Pot().betting_round()\n"
   ]
  },
  {
   "cell_type": "code",
   "execution_count": null,
   "id": "eb0a28c9-a154-4156-9d03-3dcf286155b4",
   "metadata": {},
   "outputs": [],
   "source": []
  },
  {
   "cell_type": "code",
   "execution_count": 8,
   "id": "2b670bac-1e05-497c-b1be-8178e9998e62",
   "metadata": {},
   "outputs": [],
   "source": [
    "from typing_extensions import TypedDict\n",
    "# import pydantic \n",
    "\n",
    "class PotState:\n",
    "    def __init__(self, call_amount : int):\n",
    "        self.call_amount : int = call_amount\n",
    "        self.check_allowed : bool = False\n",
    "        self.minimum_raise : int = call_amount*2\n",
    "        self.pot_size : int = 0\n"
   ]
  },
  {
   "cell_type": "code",
   "execution_count": 13,
   "id": "1cfdcf6f-d33c-4d59-9137-0de355e83189",
   "metadata": {},
   "outputs": [
    {
     "data": {
      "text/plain": [
       "'ZERO'"
      ]
     },
     "execution_count": 13,
     "metadata": {},
     "output_type": "execute_result"
    }
   ],
   "source": [
    "from enum import IntEnum\n",
    "class BoardStage(IntEnum):\n",
    "    ZERO = 0\n",
    "    PREFLOP = 1\n",
    "    FLOP = 2\n",
    "    TURN = 3\n",
    "    RIVER = 4\n",
    "\n",
    "bs = BoardStage.ZERO\n",
    "bs.name"
   ]
  }
 ],
 "metadata": {
  "kernelspec": {
   "display_name": "Python 3 (ipykernel)",
   "language": "python",
   "name": "python3"
  },
  "language_info": {
   "codemirror_mode": {
    "name": "ipython",
    "version": 3
   },
   "file_extension": ".py",
   "mimetype": "text/x-python",
   "name": "python",
   "nbconvert_exporter": "python",
   "pygments_lexer": "ipython3",
   "version": "3.11.5"
  }
 },
 "nbformat": 4,
 "nbformat_minor": 5
}
