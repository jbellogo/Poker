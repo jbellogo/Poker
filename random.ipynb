{
 "cells": [
  {
   "cell_type": "code",
   "execution_count": 1,
   "id": "9af288b0-3d81-4f10-8a85-434887731143",
   "metadata": {},
   "outputs": [],
   "source": [
    "from models import Suit, Rank, Card"
   ]
  },
  {
   "cell_type": "code",
   "execution_count": 2,
   "id": "3368feed-be6b-4382-b774-aa94bb15e58a",
   "metadata": {},
   "outputs": [],
   "source": [
    "KH = Card(suit=\"H\", rank=13)"
   ]
  },
  {
   "cell_type": "code",
   "execution_count": 3,
   "id": "fd475437-4ad7-425d-a283-3faf979ad4b0",
   "metadata": {},
   "outputs": [
    {
     "data": {
      "text/plain": [
       "True"
      ]
     },
     "execution_count": 3,
     "metadata": {},
     "output_type": "execute_result"
    }
   ],
   "source": [
    "Suit.list() == ['S', 'H', 'C', 'D']\n",
    "Rank.list() == [2, 3, 4, 5, 6, 7, 8, 9, 10, 11, 12, 13, 14]\n",
    "\n"
   ]
  },
  {
   "cell_type": "code",
   "execution_count": 1,
   "id": "12bbce59-a72a-41c0-b6a9-1c685a7fd3ae",
   "metadata": {},
   "outputs": [],
   "source": [
    "import models \n"
   ]
  },
  {
   "cell_type": "code",
   "execution_count": 20,
   "id": "9a0651fc-bae7-49f8-809f-77c35e27b2c6",
   "metadata": {},
   "outputs": [],
   "source": [
    "mydeck = models.Deck()\n",
    "p1 = models.Player()"
   ]
  },
  {
   "cell_type": "code",
   "execution_count": 25,
   "id": "d663bde0-5089-4d89-8ec3-a5b718734363",
   "metadata": {},
   "outputs": [],
   "source": [
    "### @TODO pytest\n",
    "### how do we use pytest again to test this???? prove that one of the cards goes from mydeck to pq\n",
    "mydeck.deal_card(p1)\n",
    "\n"
   ]
  },
  {
   "cell_type": "code",
   "execution_count": 24,
   "id": "212ee5c5-6e99-44f5-8381-439678d1877b",
   "metadata": {},
   "outputs": [
    {
     "name": "stdout",
     "output_type": "stream",
     "text": [
      "[Card(suit=<Suit.DIAMONDS: 'D'>, rank=<Rank.KING: 13>)]\n",
      "[Card(suit=<Suit.CLUBS: 'C'>, rank=<Rank.FIVE: 5>), Card(suit=<Suit.CLUBS: 'C'>, rank=<Rank.FOUR: 4>), Card(suit=<Suit.HEARTS: 'H'>, rank=<Rank.EIGHT: 8>), Card(suit=<Suit.HEARTS: 'H'>, rank=<Rank.SEVEN: 7>), Card(suit=<Suit.CLUBS: 'C'>, rank=<Rank.NINE: 9>), Card(suit=<Suit.HEARTS: 'H'>, rank=<Rank.TWO: 2>), Card(suit=<Suit.CLUBS: 'C'>, rank=<Rank.ACE: 14>), Card(suit=<Suit.DIAMONDS: 'D'>, rank=<Rank.QUEEN: 12>), Card(suit=<Suit.SPADES: 'S'>, rank=<Rank.THREE: 3>), Card(suit=<Suit.CLUBS: 'C'>, rank=<Rank.QUEEN: 12>), Card(suit=<Suit.CLUBS: 'C'>, rank=<Rank.KING: 13>), Card(suit=<Suit.CLUBS: 'C'>, rank=<Rank.TWO: 2>), Card(suit=<Suit.DIAMONDS: 'D'>, rank=<Rank.EIGHT: 8>), Card(suit=<Suit.SPADES: 'S'>, rank=<Rank.QUEEN: 12>), Card(suit=<Suit.HEARTS: 'H'>, rank=<Rank.JACK: 11>), Card(suit=<Suit.DIAMONDS: 'D'>, rank=<Rank.NINE: 9>), Card(suit=<Suit.HEARTS: 'H'>, rank=<Rank.FOUR: 4>), Card(suit=<Suit.DIAMONDS: 'D'>, rank=<Rank.JACK: 11>), Card(suit=<Suit.HEARTS: 'H'>, rank=<Rank.THREE: 3>), Card(suit=<Suit.DIAMONDS: 'D'>, rank=<Rank.TEN: 10>), Card(suit=<Suit.SPADES: 'S'>, rank=<Rank.JACK: 11>), Card(suit=<Suit.SPADES: 'S'>, rank=<Rank.TWO: 2>), Card(suit=<Suit.SPADES: 'S'>, rank=<Rank.SEVEN: 7>), Card(suit=<Suit.HEARTS: 'H'>, rank=<Rank.ACE: 14>), Card(suit=<Suit.HEARTS: 'H'>, rank=<Rank.QUEEN: 12>), Card(suit=<Suit.SPADES: 'S'>, rank=<Rank.FIVE: 5>), Card(suit=<Suit.SPADES: 'S'>, rank=<Rank.SIX: 6>), Card(suit=<Suit.SPADES: 'S'>, rank=<Rank.TEN: 10>), Card(suit=<Suit.HEARTS: 'H'>, rank=<Rank.NINE: 9>), Card(suit=<Suit.CLUBS: 'C'>, rank=<Rank.SEVEN: 7>), Card(suit=<Suit.SPADES: 'S'>, rank=<Rank.NINE: 9>), Card(suit=<Suit.SPADES: 'S'>, rank=<Rank.ACE: 14>), Card(suit=<Suit.HEARTS: 'H'>, rank=<Rank.FIVE: 5>), Card(suit=<Suit.SPADES: 'S'>, rank=<Rank.FOUR: 4>), Card(suit=<Suit.DIAMONDS: 'D'>, rank=<Rank.SEVEN: 7>), Card(suit=<Suit.SPADES: 'S'>, rank=<Rank.EIGHT: 8>), Card(suit=<Suit.DIAMONDS: 'D'>, rank=<Rank.SIX: 6>), Card(suit=<Suit.CLUBS: 'C'>, rank=<Rank.JACK: 11>), Card(suit=<Suit.DIAMONDS: 'D'>, rank=<Rank.TWO: 2>), Card(suit=<Suit.DIAMONDS: 'D'>, rank=<Rank.THREE: 3>), Card(suit=<Suit.CLUBS: 'C'>, rank=<Rank.EIGHT: 8>), Card(suit=<Suit.DIAMONDS: 'D'>, rank=<Rank.ACE: 14>), Card(suit=<Suit.HEARTS: 'H'>, rank=<Rank.SIX: 6>), Card(suit=<Suit.CLUBS: 'C'>, rank=<Rank.TEN: 10>), Card(suit=<Suit.DIAMONDS: 'D'>, rank=<Rank.FOUR: 4>), Card(suit=<Suit.HEARTS: 'H'>, rank=<Rank.KING: 13>), Card(suit=<Suit.DIAMONDS: 'D'>, rank=<Rank.FIVE: 5>), Card(suit=<Suit.SPADES: 'S'>, rank=<Rank.KING: 13>), Card(suit=<Suit.HEARTS: 'H'>, rank=<Rank.TEN: 10>), Card(suit=<Suit.CLUBS: 'C'>, rank=<Rank.THREE: 3>), Card(suit=<Suit.CLUBS: 'C'>, rank=<Rank.SIX: 6>)]\n"
     ]
    }
   ],
   "source": [
    "print(p1.cards)\n",
    "len(mydeck.cards)\n",
    "print(mydeck.cards)"
   ]
  }
 ],
 "metadata": {
  "kernelspec": {
   "display_name": "Python 3 (ipykernel)",
   "language": "python",
   "name": "python3"
  },
  "language_info": {
   "codemirror_mode": {
    "name": "ipython",
    "version": 3
   },
   "file_extension": ".py",
   "mimetype": "text/x-python",
   "name": "python",
   "nbconvert_exporter": "python",
   "pygments_lexer": "ipython3",
   "version": "3.11.5"
  }
 },
 "nbformat": 4,
 "nbformat_minor": 5
}
