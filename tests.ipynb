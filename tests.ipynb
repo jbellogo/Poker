{
 "cells": [
  {
   "cell_type": "code",
   "execution_count": 1,
   "id": "9af288b0-3d81-4f10-8a85-434887731143",
   "metadata": {},
   "outputs": [],
   "source": [
    "from models import Suit, Rank, Card"
   ]
  },
  {
   "cell_type": "code",
   "execution_count": 2,
   "id": "3368feed-be6b-4382-b774-aa94bb15e58a",
   "metadata": {},
   "outputs": [],
   "source": [
    "KH = Card(suit=\"H\", rank=13)"
   ]
  },
  {
   "cell_type": "code",
   "execution_count": 3,
   "id": "fd475437-4ad7-425d-a283-3faf979ad4b0",
   "metadata": {},
   "outputs": [
    {
     "data": {
      "text/plain": [
       "True"
      ]
     },
     "execution_count": 3,
     "metadata": {},
     "output_type": "execute_result"
    }
   ],
   "source": [
    "Suit.list() == ['S', 'H', 'C', 'D']\n",
    "Rank.list() == [2, 3, 4, 5, 6, 7, 8, 9, 10, 11, 12, 13, 14]\n",
    "\n"
   ]
  },
  {
   "cell_type": "code",
   "execution_count": 1,
   "id": "12bbce59-a72a-41c0-b6a9-1c685a7fd3ae",
   "metadata": {},
   "outputs": [
    {
     "ename": "ImportError",
     "evalue": "cannot import name 'Card' from partially initialized module 'models.cards' (most likely due to a circular import) (/Users/juanbello/Desktop/projects/poker/models/cards.py)",
     "output_type": "error",
     "traceback": [
      "\u001b[0;31m---------------------------------------------------------------------------\u001b[0m",
      "\u001b[0;31mImportError\u001b[0m                               Traceback (most recent call last)",
      "Cell \u001b[0;32mIn[1], line 1\u001b[0m\n\u001b[0;32m----> 1\u001b[0m \u001b[38;5;28;01mfrom\u001b[39;00m \u001b[38;5;21;01mmodels\u001b[39;00m\u001b[38;5;21;01m.\u001b[39;00m\u001b[38;5;21;01mcards\u001b[39;00m \u001b[38;5;28;01mimport\u001b[39;00m Deck\n",
      "File \u001b[0;32m~/Desktop/projects/poker/models/cards.py:5\u001b[0m\n\u001b[1;32m      3\u001b[0m \u001b[38;5;28;01mfrom\u001b[39;00m \u001b[38;5;21;01mtyping\u001b[39;00m \u001b[38;5;28;01mimport\u001b[39;00m List, Union\n\u001b[1;32m      4\u001b[0m \u001b[38;5;28;01mimport\u001b[39;00m \u001b[38;5;21;01mrandom\u001b[39;00m\n\u001b[0;32m----> 5\u001b[0m \u001b[38;5;28;01mfrom\u001b[39;00m \u001b[38;5;21;01m.\u001b[39;00m\u001b[38;5;21;01mentities\u001b[39;00m \u001b[38;5;28;01mimport\u001b[39;00m Player, Board\n\u001b[1;32m      7\u001b[0m \u001b[38;5;66;03m# class syntax\u001b[39;00m\n\u001b[1;32m      8\u001b[0m \u001b[38;5;28;01mclass\u001b[39;00m \u001b[38;5;21;01mSuit\u001b[39;00m(\u001b[38;5;28mstr\u001b[39m, Enum):\n",
      "File \u001b[0;32m~/Desktop/projects/poker/models/entities.py:2\u001b[0m\n\u001b[1;32m      1\u001b[0m \u001b[38;5;28;01mfrom\u001b[39;00m \u001b[38;5;21;01mpydantic\u001b[39;00m \u001b[38;5;28;01mimport\u001b[39;00m BaseModel\n\u001b[0;32m----> 2\u001b[0m \u001b[38;5;28;01mfrom\u001b[39;00m \u001b[38;5;21;01m.\u001b[39;00m\u001b[38;5;21;01mcards\u001b[39;00m \u001b[38;5;28;01mimport\u001b[39;00m Card\n\u001b[1;32m      3\u001b[0m \u001b[38;5;28;01mfrom\u001b[39;00m \u001b[38;5;21;01mtypes\u001b[39;00m \u001b[38;5;28;01mimport\u001b[39;00m List\n\u001b[1;32m      4\u001b[0m \u001b[38;5;28;01mfrom\u001b[39;00m \u001b[38;5;21;01mabc\u001b[39;00m \u001b[38;5;28;01mimport\u001b[39;00m ABC, abstractmethod\n",
      "\u001b[0;31mImportError\u001b[0m: cannot import name 'Card' from partially initialized module 'models.cards' (most likely due to a circular import) (/Users/juanbello/Desktop/projects/poker/models/cards.py)"
     ]
    }
   ],
   "source": [
    "from models.cards import Deck\n",
    " "
   ]
  },
  {
   "cell_type": "code",
   "execution_count": 5,
   "id": "9a0651fc-bae7-49f8-809f-77c35e27b2c6",
   "metadata": {},
   "outputs": [],
   "source": [
    "mydeck = Deck()"
   ]
  },
  {
   "cell_type": "code",
   "execution_count": 15,
   "id": "d663bde0-5089-4d89-8ec3-a5b718734363",
   "metadata": {},
   "outputs": [
    {
     "name": "stdout",
     "output_type": "stream",
     "text": [
      "0\n",
      "1\n"
     ]
    }
   ],
   "source": [
    "mydeck.cards"
   ]
  }
 ],
 "metadata": {
  "kernelspec": {
   "display_name": "Python 3 (ipykernel)",
   "language": "python",
   "name": "python3"
  },
  "language_info": {
   "codemirror_mode": {
    "name": "ipython",
    "version": 3
   },
   "file_extension": ".py",
   "mimetype": "text/x-python",
   "name": "python",
   "nbconvert_exporter": "python",
   "pygments_lexer": "ipython3",
   "version": "3.11.5"
  }
 },
 "nbformat": 4,
 "nbformat_minor": 5
}
